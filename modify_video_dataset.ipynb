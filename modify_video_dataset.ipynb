{
 "cells": [
  {
   "cell_type": "code",
   "execution_count": 1,
   "id": "5cf90e9b-a420-4af8-bf50-35ed9ea5766f",
   "metadata": {},
   "outputs": [],
   "source": [
    "import os\n",
    "import shutil\n",
    "import random"
   ]
  },
  {
   "cell_type": "code",
   "execution_count": 2,
   "id": "f3bfa538-4cfe-48ac-be47-a8b52f53f927",
   "metadata": {},
   "outputs": [],
   "source": [
    "video_dir = '../WLASL/start_kit/videos'"
   ]
  },
  {
   "cell_type": "code",
   "execution_count": 3,
   "id": "03549a75-0c55-473c-9b3e-fcf08e15b02b",
   "metadata": {},
   "outputs": [
    {
     "data": {
      "text/plain": [
       "['go',\n",
       " 'clothes',\n",
       " 'chair',\n",
       " 'cousin',\n",
       " 'who',\n",
       " 'book',\n",
       " 'before',\n",
       " 'computer',\n",
       " 'drink',\n",
       " 'candy']"
      ]
     },
     "execution_count": 3,
     "metadata": {},
     "output_type": "execute_result"
    }
   ],
   "source": [
    "labels = os.listdir(video_dir)\n",
    "labels.remove('.DS_Store')\n",
    "labels"
   ]
  },
  {
   "cell_type": "code",
   "execution_count": 6,
   "id": "4c95252e-4395-487b-ae48-cf99da449631",
   "metadata": {},
   "outputs": [],
   "source": [
    "# set the paths the new train/val/test directories\n",
    "train_dir = '../WLASL/start_kit/videos/train'\n",
    "val_dir = '../WLASL/start_kit/videos/validation'\n",
    "test_dir = '../WLASL/start_kit/videos/test'\n",
    "\n",
    "# create the train/val/test directories if they don't already exist\n",
    "os.makedirs(train_dir, exist_ok=True)\n",
    "os.makedirs(val_dir, exist_ok=True)\n",
    "os.makedirs(test_dir, exist_ok=True)\n",
    "\n",
    "# loop through each label directory in the videos directory\n",
    "for label_dir in labels:\n",
    "    label_path = os.path.join(video_dir, label_dir)\n",
    "    if not os.path.isdir(label_path):\n",
    "        continue\n",
    "\n",
    "    # create the label directories in the train/val/test directories\n",
    "    train_label_dir = os.path.join(train_dir, label_dir)\n",
    "    val_label_dir = os.path.join(val_dir, label_dir)\n",
    "    test_label_dir = os.path.join(test_dir, label_dir)\n",
    "    os.makedirs(train_label_dir, exist_ok=True)\n",
    "    os.makedirs(val_label_dir, exist_ok=True)\n",
    "    os.makedirs(test_label_dir, exist_ok=True)\n",
    "\n",
    "    # loop through each video in the label directory\n",
    "    videos = os.listdir(label_path)\n",
    "    random.shuffle(videos)  # shuffle the videos to ensure randomness\n",
    "    for i, video in enumerate(videos):\n",
    "        video_path = os.path.join(label_path, video)\n",
    "\n",
    "        # copy the video to the train/val/test directories based on the split percentages\n",
    "        if i < len(videos) * 0.8:\n",
    "            shutil.copy2(video_path, os.path.join(train_label_dir, video))\n",
    "        elif i < len(videos) * 0.9:\n",
    "            shutil.copy2(video_path, os.path.join(val_label_dir, video))\n",
    "        else:\n",
    "            shutil.copy2(video_path, os.path.join(test_label_dir, video))"
   ]
  }
 ],
 "metadata": {
  "kernelspec": {
   "display_name": "Python 3",
   "language": "python",
   "name": "python3"
  },
  "language_info": {
   "codemirror_mode": {
    "name": "ipython",
    "version": 3
   },
   "file_extension": ".py",
   "mimetype": "text/x-python",
   "name": "python",
   "nbconvert_exporter": "python",
   "pygments_lexer": "ipython3",
   "version": "3.8.16"
  }
 },
 "nbformat": 4,
 "nbformat_minor": 5
}
